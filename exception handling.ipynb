{
 "cells": [
  {
   "cell_type": "code",
   "execution_count": null,
   "id": "a26be31a-1afa-4eaf-a6da-d63de922e139",
   "metadata": {},
   "outputs": [],
   "source": [
    "EXCEPTION HANDLING IN PYHTON"
   ]
  },
  {
   "cell_type": "code",
   "execution_count": 1,
   "id": "8cd7e32e-1c80-44ef-99f9-5ffc6f030383",
   "metadata": {},
   "outputs": [
    {
     "ename": "SyntaxError",
     "evalue": "expected ':' (4080841616.py, line 5)",
     "output_type": "error",
     "traceback": [
      "\u001b[1;36m  Cell \u001b[1;32mIn[1], line 5\u001b[1;36m\u001b[0m\n\u001b[1;33m    if a==b\u001b[0m\n\u001b[1;37m           ^\u001b[0m\n\u001b[1;31mSyntaxError\u001b[0m\u001b[1;31m:\u001b[0m expected ':'\n"
     ]
    }
   ],
   "source": [
    "###1).SYNTAX ERROR\n",
    "## Caused by wrong syntax\n",
    "a=\"bharath\"\n",
    "b=\"bharath\"\n",
    "if a==b\n",
    "print(\"A and B are same\")"
   ]
  },
  {
   "cell_type": "code",
   "execution_count": 2,
   "id": "e5d03e7a-b1cf-4ae3-9b67-dc57e20b6e82",
   "metadata": {},
   "outputs": [
    {
     "ename": "ZeroDivisionError",
     "evalue": "division by zero",
     "output_type": "error",
     "traceback": [
      "\u001b[1;31m---------------------------------------------------------------------------\u001b[0m",
      "\u001b[1;31mZeroDivisionError\u001b[0m                         Traceback (most recent call last)",
      "Cell \u001b[1;32mIn[2], line 5\u001b[0m\n\u001b[0;32m      3\u001b[0m a\u001b[38;5;241m=\u001b[39m\u001b[38;5;241m10\u001b[39m\n\u001b[0;32m      4\u001b[0m b\u001b[38;5;241m=\u001b[39m\u001b[38;5;241m0\u001b[39m\n\u001b[1;32m----> 5\u001b[0m \u001b[38;5;28mprint\u001b[39m(a\u001b[38;5;241m/\u001b[39mb)\n",
      "\u001b[1;31mZeroDivisionError\u001b[0m: division by zero"
     ]
    }
   ],
   "source": [
    "###2).ZERO DIVISION ERROR\n",
    "#Causd by when we try to divide a number by zero\n",
    "a=10\n",
    "b=0\n",
    "print(a/b)"
   ]
  },
  {
   "cell_type": "code",
   "execution_count": 3,
   "id": "d6435135-e941-4fd6-bbd1-c43b6312b081",
   "metadata": {},
   "outputs": [
    {
     "ename": "TypeError",
     "evalue": "unsupported operand type(s) for +: 'int' and 'str'",
     "output_type": "error",
     "traceback": [
      "\u001b[1;31m---------------------------------------------------------------------------\u001b[0m",
      "\u001b[1;31mTypeError\u001b[0m                                 Traceback (most recent call last)",
      "Cell \u001b[1;32mIn[3], line 5\u001b[0m\n\u001b[0;32m      3\u001b[0m A\u001b[38;5;241m=\u001b[39m\u001b[38;5;241m12\u001b[39m\n\u001b[0;32m      4\u001b[0m B\u001b[38;5;241m=\u001b[39m\u001b[38;5;124m\"\u001b[39m\u001b[38;5;124mBHARATH\u001b[39m\u001b[38;5;124m\"\u001b[39m\n\u001b[1;32m----> 5\u001b[0m \u001b[38;5;28mprint\u001b[39m(A\u001b[38;5;241m+\u001b[39mB)\n",
      "\u001b[1;31mTypeError\u001b[0m: unsupported operand type(s) for +: 'int' and 'str'"
     ]
    }
   ],
   "source": [
    "###3).TYPE ERROR\n",
    "#This exception is raised when an operation or function is applied to an object of the wrong type.\n",
    "A=12\n",
    "B=\"BHARATH\"\n",
    "print(A+B)"
   ]
  },
  {
   "cell_type": "code",
   "execution_count": 7,
   "id": "dcae8560-81ee-400b-9524-31e366f22832",
   "metadata": {},
   "outputs": [
    {
     "ename": "NameError",
     "evalue": "name 'Bbharath' is not defined",
     "output_type": "error",
     "traceback": [
      "\u001b[1;31m---------------------------------------------------------------------------\u001b[0m",
      "\u001b[1;31mNameError\u001b[0m                                 Traceback (most recent call last)",
      "Cell \u001b[1;32mIn[7], line 5\u001b[0m\n\u001b[0;32m      3\u001b[0m A\u001b[38;5;241m=\u001b[39m\u001b[38;5;241m12\u001b[39m\n\u001b[0;32m      4\u001b[0m c\u001b[38;5;241m=\u001b[39m\u001b[38;5;241m23\u001b[39m\n\u001b[1;32m----> 5\u001b[0m \u001b[38;5;28mprint\u001b[39m(A\u001b[38;5;241m*\u001b[39mBbharath)\n",
      "\u001b[1;31mNameError\u001b[0m: name 'Bbharath' is not defined"
     ]
    }
   ],
   "source": [
    "###4).NAME ERROR\n",
    "# This exception is raised when a variable or function name is not found in the current scope.\n",
    "A=12\n",
    "c=23\n",
    "print(A*Bbharath)"
   ]
  },
  {
   "cell_type": "code",
   "execution_count": 9,
   "id": "6a0b9b19-333c-46f4-8718-47863a118f42",
   "metadata": {},
   "outputs": [
    {
     "ename": "IndexError",
     "evalue": "list index out of range",
     "output_type": "error",
     "traceback": [
      "\u001b[1;31m---------------------------------------------------------------------------\u001b[0m",
      "\u001b[1;31mIndexError\u001b[0m                                Traceback (most recent call last)",
      "Cell \u001b[1;32mIn[9], line 4\u001b[0m\n\u001b[0;32m      1\u001b[0m \u001b[38;5;66;03m###5).INDEX ERROR\u001b[39;00m\n\u001b[0;32m      2\u001b[0m \u001b[38;5;66;03m#This exception is raised when an index is out of range for a list, tuple, or other sequence types.\u001b[39;00m\n\u001b[0;32m      3\u001b[0m A\u001b[38;5;241m=\u001b[39m[\u001b[38;5;241m12\u001b[39m,\u001b[38;5;241m23\u001b[39m,\u001b[38;5;241m34\u001b[39m,\u001b[38;5;241m45\u001b[39m,\u001b[38;5;241m56\u001b[39m,\u001b[38;5;241m67\u001b[39m]\n\u001b[1;32m----> 4\u001b[0m \u001b[38;5;28mprint\u001b[39m(A[\u001b[38;5;241m10\u001b[39m])\n",
      "\u001b[1;31mIndexError\u001b[0m: list index out of range"
     ]
    }
   ],
   "source": [
    "###5).INDEX ERROR\n",
    "#This exception is raised when an index is out of range for a list, tuple, or other sequence types.\n",
    "A=[12,23,34,45,56,67]\n",
    "print(A[10])\n",
    "   "
   ]
  },
  {
   "cell_type": "code",
   "execution_count": 12,
   "id": "87752cd1-06bb-464f-a416-194657fe5f6f",
   "metadata": {},
   "outputs": [
    {
     "ename": "KeyError",
     "evalue": "4",
     "output_type": "error",
     "traceback": [
      "\u001b[1;31m---------------------------------------------------------------------------\u001b[0m",
      "\u001b[1;31mKeyError\u001b[0m                                  Traceback (most recent call last)",
      "Cell \u001b[1;32mIn[12], line 4\u001b[0m\n\u001b[0;32m      1\u001b[0m \u001b[38;5;66;03m###6).KEY ERROR\u001b[39;00m\n\u001b[0;32m      2\u001b[0m \u001b[38;5;66;03m# This exception is raised when a key is not found in a dictionary.\u001b[39;00m\n\u001b[0;32m      3\u001b[0m a\u001b[38;5;241m=\u001b[39m{\u001b[38;5;241m1\u001b[39m:\u001b[38;5;124m\"\u001b[39m\u001b[38;5;124mbharath\u001b[39m\u001b[38;5;124m\"\u001b[39m,\u001b[38;5;241m2\u001b[39m:\u001b[38;5;124m\"\u001b[39m\u001b[38;5;124mchintu\u001b[39m\u001b[38;5;124m\"\u001b[39m,\u001b[38;5;241m3\u001b[39m:\u001b[38;5;124m\"\u001b[39m\u001b[38;5;124msai\u001b[39m\u001b[38;5;124m\"\u001b[39m}\n\u001b[1;32m----> 4\u001b[0m \u001b[38;5;28mprint\u001b[39m(a[\u001b[38;5;241m4\u001b[39m])\n",
      "\u001b[1;31mKeyError\u001b[0m: 4"
     ]
    }
   ],
   "source": [
    "###6).KEY ERROR\n",
    "# This exception is raised when a key is not found in a dictionary.\n",
    "a={1:\"bharath\",2:\"chintu\",3:\"sai\"}\n",
    "print(a[4])"
   ]
  },
  {
   "cell_type": "code",
   "execution_count": 21,
   "id": "8c4f6b4a-73a4-4d30-95ab-76d00fb87bdd",
   "metadata": {},
   "outputs": [
    {
     "ename": "ValueError",
     "evalue": "could not convert string to float: 'bharath'",
     "output_type": "error",
     "traceback": [
      "\u001b[1;31m---------------------------------------------------------------------------\u001b[0m",
      "\u001b[1;31mValueError\u001b[0m                                Traceback (most recent call last)",
      "Cell \u001b[1;32mIn[21], line 5\u001b[0m\n\u001b[0;32m      1\u001b[0m \u001b[38;5;66;03m###7).VALUE ERROR\u001b[39;00m\n\u001b[0;32m      2\u001b[0m \u001b[38;5;66;03m# This exception is raised when a function or method is called with an invalid argument or input, such as trying to \u001b[39;00m\n\u001b[0;32m      3\u001b[0m \u001b[38;5;66;03m#convert a string to an integer when the string does not represent a valid integer.\u001b[39;00m\n\u001b[0;32m      4\u001b[0m a\u001b[38;5;241m=\u001b[39m\u001b[38;5;124m\"\u001b[39m\u001b[38;5;124mbharath\u001b[39m\u001b[38;5;124m\"\u001b[39m\n\u001b[1;32m----> 5\u001b[0m \u001b[38;5;28mprint\u001b[39m(\u001b[38;5;28mfloat\u001b[39m(a))\n",
      "\u001b[1;31mValueError\u001b[0m: could not convert string to float: 'bharath'"
     ]
    }
   ],
   "source": [
    "###7).VALUE ERROR\n",
    "# This exception is raised when a function or method is called with an invalid argument or input, such as trying to \n",
    "#convert a string to an integer when the string does not represent a valid integer.\n",
    "a=\"bharath\"\n",
    "print(float(a))"
   ]
  },
  {
   "cell_type": "code",
   "execution_count": 22,
   "id": "844bae16-7439-4d2d-a156-12cb928234dc",
   "metadata": {},
   "outputs": [
    {
     "ename": "AttributeError",
     "evalue": "'int' object has no attribute 'append'",
     "output_type": "error",
     "traceback": [
      "\u001b[1;31m---------------------------------------------------------------------------\u001b[0m",
      "\u001b[1;31mAttributeError\u001b[0m                            Traceback (most recent call last)",
      "Cell \u001b[1;32mIn[22], line 5\u001b[0m\n\u001b[0;32m      1\u001b[0m \u001b[38;5;66;03m###8).ATTRIBUTE ERROR\u001b[39;00m\n\u001b[0;32m      2\u001b[0m \u001b[38;5;66;03m#This exception is raised when an attribute or method is not found on an object, \u001b[39;00m\n\u001b[0;32m      3\u001b[0m \u001b[38;5;66;03m#such as trying to access a non-existent attribute of a class instance.\u001b[39;00m\n\u001b[0;32m      4\u001b[0m a\u001b[38;5;241m=\u001b[39m\u001b[38;5;241m16\u001b[39m\n\u001b[1;32m----> 5\u001b[0m a\u001b[38;5;241m.\u001b[39mappend(\u001b[38;5;241m12\u001b[39m)\n",
      "\u001b[1;31mAttributeError\u001b[0m: 'int' object has no attribute 'append'"
     ]
    }
   ],
   "source": [
    "###8).ATTRIBUTE ERROR\n",
    "#This exception is raised when an attribute or method is not found on an object, \n",
    "#such as trying to access a non-existent attribute of a class instance.\n",
    "a=16\n",
    "a.append(12)"
   ]
  },
  {
   "cell_type": "code",
   "execution_count": 23,
   "id": "bd1a70fc-9379-4a4e-938e-a082be832834",
   "metadata": {},
   "outputs": [
    {
     "ename": "FileNotFoundError",
     "evalue": "[Errno 2] No such file or directory: 'geeks.txt'",
     "output_type": "error",
     "traceback": [
      "\u001b[1;31m---------------------------------------------------------------------------\u001b[0m",
      "\u001b[1;31mFileNotFoundError\u001b[0m                         Traceback (most recent call last)",
      "Cell \u001b[1;32mIn[23], line 4\u001b[0m\n\u001b[0;32m      1\u001b[0m \u001b[38;5;66;03m###9). IO ERROR\u001b[39;00m\n\u001b[0;32m      2\u001b[0m \u001b[38;5;66;03m#This exception is raised when an I/O operation, such as reading or writing a file, fails due to an input/output error.\u001b[39;00m\n\u001b[0;32m      3\u001b[0m \u001b[38;5;66;03m# Python code to illustrate read() mode\u001b[39;00m\n\u001b[1;32m----> 4\u001b[0m file \u001b[38;5;241m=\u001b[39m \u001b[38;5;28mopen\u001b[39m(\u001b[38;5;124m\"\u001b[39m\u001b[38;5;124mgeeks.txt\u001b[39m\u001b[38;5;124m\"\u001b[39m, \u001b[38;5;124m\"\u001b[39m\u001b[38;5;124mr\u001b[39m\u001b[38;5;124m\"\u001b[39m) \n\u001b[0;32m      5\u001b[0m \u001b[38;5;28mprint\u001b[39m (file\u001b[38;5;241m.\u001b[39mread())\n",
      "File \u001b[1;32m~\\anaconda3\\Lib\\site-packages\\IPython\\core\\interactiveshell.py:310\u001b[0m, in \u001b[0;36m_modified_open\u001b[1;34m(file, *args, **kwargs)\u001b[0m\n\u001b[0;32m    303\u001b[0m \u001b[38;5;28;01mif\u001b[39;00m file \u001b[38;5;129;01min\u001b[39;00m {\u001b[38;5;241m0\u001b[39m, \u001b[38;5;241m1\u001b[39m, \u001b[38;5;241m2\u001b[39m}:\n\u001b[0;32m    304\u001b[0m     \u001b[38;5;28;01mraise\u001b[39;00m \u001b[38;5;167;01mValueError\u001b[39;00m(\n\u001b[0;32m    305\u001b[0m         \u001b[38;5;124mf\u001b[39m\u001b[38;5;124m\"\u001b[39m\u001b[38;5;124mIPython won\u001b[39m\u001b[38;5;124m'\u001b[39m\u001b[38;5;124mt let you open fd=\u001b[39m\u001b[38;5;132;01m{\u001b[39;00mfile\u001b[38;5;132;01m}\u001b[39;00m\u001b[38;5;124m by default \u001b[39m\u001b[38;5;124m\"\u001b[39m\n\u001b[0;32m    306\u001b[0m         \u001b[38;5;124m\"\u001b[39m\u001b[38;5;124mas it is likely to crash IPython. If you know what you are doing, \u001b[39m\u001b[38;5;124m\"\u001b[39m\n\u001b[0;32m    307\u001b[0m         \u001b[38;5;124m\"\u001b[39m\u001b[38;5;124myou can use builtins\u001b[39m\u001b[38;5;124m'\u001b[39m\u001b[38;5;124m open.\u001b[39m\u001b[38;5;124m\"\u001b[39m\n\u001b[0;32m    308\u001b[0m     )\n\u001b[1;32m--> 310\u001b[0m \u001b[38;5;28;01mreturn\u001b[39;00m io_open(file, \u001b[38;5;241m*\u001b[39margs, \u001b[38;5;241m*\u001b[39m\u001b[38;5;241m*\u001b[39mkwargs)\n",
      "\u001b[1;31mFileNotFoundError\u001b[0m: [Errno 2] No such file or directory: 'geeks.txt'"
     ]
    }
   ],
   "source": [
    "###9). FILE NOT FOUND ERROR\n",
    "#This exception is raised when FILE is not found . \n",
    "file = open(\"geeks.txt\", \"r\") \n",
    "print (file.read())"
   ]
  },
  {
   "cell_type": "code",
   "execution_count": 29,
   "id": "24820a06-e49b-494b-bf91-1f1d0b7b2235",
   "metadata": {},
   "outputs": [
    {
     "name": "stdout",
     "output_type": "stream",
     "text": [
      "Second element = 2\n",
      "An error occurred\n"
     ]
    }
   ],
   "source": [
    "### EXCEPTION HANDLING MECHANISMS\n",
    "\"\"\"Try and except statements are used to catch and handle exceptions in Python. \n",
    "Statements that can raise exceptions are wrapped inside the try block \n",
    "and the statements that handle the exception are written inside except block.\"\"\"\n",
    "a = [1, 2, 3]\n",
    "try: \n",
    "    print (\"Second element = %d\" %(a[1]))\n",
    "\n",
    "    print (\"Fourth element = %d\" %(a[3]))\n",
    "\n",
    "except:\n",
    "    print (\"An error occurred\")"
   ]
  },
  {
   "cell_type": "code",
   "execution_count": 30,
   "id": "12cd1d07-ca30-427d-b419-dcccc2b4c796",
   "metadata": {},
   "outputs": [
    {
     "name": "stdout",
     "output_type": "stream",
     "text": [
      "ZeroDivisionError Occurred and Handled\n"
     ]
    }
   ],
   "source": [
    "def fun(a):\n",
    "    if a < 4:\n",
    "\n",
    "        b = a/(a-3)\n",
    "    print(\"Value of b = \", b)\n",
    "    \n",
    "try:\n",
    "    fun(3)\n",
    "    fun(5)\n",
    "except ZeroDivisionError:\n",
    "    print(\"ZeroDivisionError Occurred and Handled\")\n",
    "except NameError:\n",
    "    print(\"NameError Occurred and Handled\")"
   ]
  },
  {
   "cell_type": "code",
   "execution_count": null,
   "id": "8c6c201b-e96f-45ee-8cbc-3cfb526ff438",
   "metadata": {},
   "outputs": [],
   "source": []
  }
 ],
 "metadata": {
  "kernelspec": {
   "display_name": "Python 3 (ipykernel)",
   "language": "python",
   "name": "python3"
  },
  "language_info": {
   "codemirror_mode": {
    "name": "ipython",
    "version": 3
   },
   "file_extension": ".py",
   "mimetype": "text/x-python",
   "name": "python",
   "nbconvert_exporter": "python",
   "pygments_lexer": "ipython3",
   "version": "3.11.7"
  }
 },
 "nbformat": 4,
 "nbformat_minor": 5
}
